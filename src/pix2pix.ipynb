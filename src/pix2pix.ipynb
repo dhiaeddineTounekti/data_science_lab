{
 "nbformat": 4,
 "nbformat_minor": 0,
 "metadata": {
  "colab": {
   "name": "pix2pix",
   "provenance": [],
   "collapsed_sections": [],
   "include_colab_link": true
  },
  "kernelspec": {
   "name": "python3",
   "display_name": "Python 3",
   "language": "python"
  },
  "accelerator": "GPU"
 },
 "cells": [
  {
   "cell_type": "markdown",
   "metadata": {
    "id": "view-in-github",
    "colab_type": "text"
   },
   "source": [
    "<a href=\"https://colab.research.google.com/github/bkkaggle/pytorch-CycleGAN-and-pix2pix/blob/master/pix2pix.ipynb\" target=\"_parent\"><img src=\"https://colab.research.google.com/assets/colab-badge.svg\" alt=\"Open In Colab\"/></a>"
   ]
  },
  {
   "source": [
    "# Prepare Dataset"
   ],
   "cell_type": "markdown",
   "metadata": {}
  },
  {
   "cell_type": "code",
   "execution_count": 1,
   "metadata": {},
   "outputs": [],
   "source": [
    "import os\n",
    "import config\n",
    "import datagan\n",
    "import shutil\n",
    "\n",
    "conf = config.Config()"
   ]
  },
  {
   "source": [
    "## Install"
   ],
   "cell_type": "code",
   "metadata": {
    "id": "7wNjDKdQy35h",
    "colab_type": "text"
   },
   "execution_count": null,
   "outputs": []
  },
  {
   "cell_type": "code",
   "metadata": {
    "id": "TRm-USlsHgEV",
    "colab_type": "code",
    "colab": {}
   },
   "source": [
    "!git clone https://github.com/junyanz/pytorch-CycleGAN-and-pix2pix"
   ],
   "execution_count": null,
   "outputs": []
  },
  {
   "cell_type": "code",
   "metadata": {
    "id": "Pt3igws3eiVp",
    "colab_type": "code",
    "colab": {}
   },
   "source": [
    "import os\n",
    "print(f\"current directory is : {os.path.basename(os.getcwd())}\")\n",
    "if os.path.basename(os.getcwd()) != \"pytorch-CycleGAN-and-pix2pix\":\n",
    "    os.chdir('pytorch-CycleGAN-and-pix2pix/')"
   ],
   "execution_count": null,
   "outputs": []
  },
  {
   "cell_type": "code",
   "metadata": {
    "id": "z1EySlOXwwoa",
    "colab_type": "code",
    "colab": {}
   },
   "source": [
    "!pip install -r requirements.txt"
   ],
   "execution_count": null,
   "outputs": []
  },
  {
   "cell_type": "code",
   "execution_count": null,
   "metadata": {},
   "outputs": [],
   "source": [
    "## Augment Data"
   ]
  },
  {
   "cell_type": "code",
   "execution_count": null,
   "metadata": {
    "tags": [
     "outputPrepend"
    ]
   },
   "outputs": [],
   "source": [
    "dataset = datagan.DataForGan()\n",
    "dataset.augmente_data()"
   ]
  },
  {
   "cell_type": "code",
   "execution_count": null,
   "metadata": {
    "tags": []
   },
   "outputs": [],
   "source": [
    "print(conf.GAN_TRAIN_MASK,conf.GAN_COMBINED_DATASET,conf.GAN_TRAIN_MRI)\n",
    "!python datasets/combine_A_and_B.py --fold_A {conf.GAN_TRAIN_MASK} --fold_B {conf.GAN_TRAIN_MRI} --fold_AB {conf.GAN_COMBINED_DATASET}"
   ]
  },
  {
   "cell_type": "markdown",
   "metadata": {
    "id": "gdUz4116xhpm",
    "colab_type": "text"
   },
   "source": [
    "# Pretrained models\n",
    "\n",
    "Download one of the official pretrained models with:\n",
    "\n",
    "-   `bash ./scripts/download_pix2pix_model.sh [edges2shoes, sat2map, map2sat, facades_label2photo, and day2night]`\n",
    "\n",
    "Or add your own pretrained model to `./checkpoints/{NAME}_pretrained/latest_net_G.pt`"
   ]
  },
  {
   "cell_type": "code",
   "metadata": {
    "id": "GC2DEP4M0OsS",
    "colab_type": "code",
    "colab": {}
   },
   "source": [
    "!bash ./scripts/download_pix2pix_model.sh facades_label2photo"
   ],
   "execution_count": null,
   "outputs": []
  },
  {
   "cell_type": "markdown",
   "metadata": {
    "id": "yFw1kDQBx3LN",
    "colab_type": "text"
   },
   "source": [
    "# Training\n",
    "\n",
    "-   `python train.py --dataroot ./datasets/facades --name facades_pix2pix --model pix2pix --direction BtoA`\n",
    "\n",
    "Change the `--dataroot` and `--name` to your own dataset's path and model's name. Use `--gpu_ids 0,1,..` to train on multiple GPUs and `--batch_size` to change the batch size. Add `--direction BtoA` if you want to train a model to transfrom from class B to A."
   ]
  },
  {
   "cell_type": "code",
   "metadata": {
    "id": "0sp7TCT2x9dB",
    "colab_type": "code",
    "colab": {}
   },
   "source": [
    "!python train.py --dataroot {conf.GAN_COMBINED_DATASET} --name {conf.GAN_MODEL_NAME} --model pix2pix --direction AtoB --num_threads 2 --batch_size 32"
   ],
   "execution_count": null,
   "outputs": []
  },
  {
   "cell_type": "markdown",
   "metadata": {
    "id": "9UkcaFZiyASl",
    "colab_type": "text"
   },
   "source": [
    "# Testing\n",
    "\n",
    "-   `python test.py --dataroot ./datasets/facades --direction BtoA --model pix2pix --name facades_pix2pix`\n",
    "\n",
    "Change the `--dataroot`, `--name`, and `--direction` to be consistent with your trained model's configuration and how you want to transform images.\n",
    "\n",
    "> from https://github.com/junyanz/pytorch-CycleGAN-and-pix2pix:\n",
    "> Note that we specified --direction BtoA as Facades dataset's A to B direction is photos to labels.\n",
    "\n",
    "> If you would like to apply a pre-trained model to a collection of input images (rather than image pairs), please use --model test option. See ./scripts/test_single.sh for how to apply a model to Facade label maps (stored in the directory facades/testB).\n",
    "\n",
    "> See a list of currently available models at ./scripts/download_pix2pix_model.sh"
   ]
  },
  {
   "cell_type": "code",
   "metadata": {
    "id": "mey7o6j-0368",
    "colab_type": "code",
    "colab": {}
   },
   "source": [
    "!ls checkpoints/"
   ],
   "execution_count": null,
   "outputs": []
  },
  {
   "cell_type": "code",
   "metadata": {
    "id": "uCsKkEq0yGh0",
    "colab_type": "code",
    "colab": {},
    "pycharm": {
     "name": "#%%\n"
    }
   },
   "source": [
    "!python test.py --dataroot ../data/gan_dataset/mask_mri --direction AtoB --model pix2pix --name {conf.GAN_MODEL_NAME}"
   ],
   "execution_count": null,
   "outputs": []
  },
  {
   "cell_type": "markdown",
   "source": [
    "# Generate Masks"
   ],
   "metadata": {
    "collapsed": false,
    "pycharm": {
     "name": "#%% md\n"
    }
   }
  },
  {
   "cell_type": "code",
   "execution_count": null,
   "outputs": [],
   "source": [
    "from src.random_shapes import generate\n",
    "import os\n",
    "if not os.path.isdir(conf.GAN_GENERATED_IMG):\n",
    "    os.mkdir(conf.GAN_GENERATED_IMG)\n",
    "\n",
    "if not os.path.isdir(conf.GAN_GENERATED_MASKS):\n",
    "    os.mkdir(conf.GAN_GENERATED_MASKS)\n",
    "\n",
    "if not os.path.isdir(conf.GAN_GENERATED_MRI):\n",
    "    os.mkdir(conf.GAN_GENERATED_MRI)\n",
    "\n",
    "generate(number_of_masks_to_generate=33000, start_index=20212, path=conf.GAN_GENERATED_MASKS)"
   ],
   "metadata": {
    "collapsed": false,
    "pycharm": {
     "name": "#%%\n"
    }
   }
  },
  {
   "cell_type": "markdown",
   "source": [
    "# Generate MRI images"
   ],
   "metadata": {
    "collapsed": false,
    "pycharm": {
     "name": "#%% md\n"
    }
   }
  },
  {
   "cell_type": "code",
   "execution_count": 9,
   "outputs": [
    {
     "name": "stdout",
     "output_type": "stream",
     "text": [
      "----------------- Options ---------------\n",
      "             aspect_ratio: 1.0                           \n",
      "               batch_size: 1                             \n",
      "          checkpoints_dir: ./checkpoints                 \n",
      "                crop_size: 256                           \n",
      "                 dataroot: C:\\Users\\dhiae\\data_science_lab\\src\\data\\gan_generated_img\\gan_generated_masks\t[default: None]\n",
      "             dataset_mode: single                        \n",
      "                direction: AtoB                          \n",
      "          display_winsize: 256                           \n",
      "                    epoch: latest                        \n",
      "                     eval: False                         \n",
      "                  gpu_ids: 0                             \n",
      "                init_gain: 0.02                          \n",
      "                init_type: normal                        \n",
      "                 input_nc: 3                             \n",
      "                  isTrain: False                         \t[default: None]\n",
      "                load_iter: 0                             \t[default: 0]\n",
      "                load_size: 256                           \n",
      "         max_dataset_size: 33000                         \t[default: inf]\n",
      "                    model: test                          \n",
      "             model_suffix:                               \n",
      "               n_layers_D: 3                             \n",
      "                     name: mri_pix2pix                   \t[default: experiment_name]\n",
      "                      ndf: 64                            \n",
      "                     netD: basic                         \n",
      "                     netG: unet_256                      \t[default: resnet_9blocks]\n",
      "                      ngf: 64                            \n",
      "               no_dropout: False                         \n",
      "                  no_flip: False                         \n",
      "                     norm: batch                         \t[default: instance]\n",
      "                 num_test: 33000                         \t[default: 50]\n",
      "              num_threads: 4                             \n",
      "                output_nc: 3                             \n",
      "                    phase: test                          \n",
      "               preprocess: resize_and_crop               \n",
      "              results_dir: C:\\Users\\dhiae\\data_science_lab\\src\\data\\gan_generated_img\\gan_generated_mri\t[default: ./results/]\n",
      "           serial_batches: False                         \n",
      "                   suffix:                               \n",
      "                  verbose: False                         \n",
      "----------------- End -------------------\n",
      "dataset [SingleDataset] was created\n",
      "initialize network with normal\n",
      "model [TestModel] was created\n",
      "loading the model from ./checkpoints\\mri_pix2pix\\latest_net_G.pth\n",
      "---------- Networks initialized -------------\n",
      "[Network G] Total number of parameters : 54.414 M\n",
      "-----------------------------------------------\n",
      "dataset size is : 33000\n",
      "processing (0000)-th image... ['C:\\\\Users\\\\dhiae\\\\data_science_lab\\\\src\\\\data\\\\gan_generated_img\\\\gan_generated_masks\\\\test\\\\0.png']\n",
      "processing (0005)-th image... ['C:\\\\Users\\\\dhiae\\\\data_science_lab\\\\src\\\\data\\\\gan_generated_img\\\\gan_generated_masks\\\\test\\\\10000.png']\n",
      "processing (0010)-th image... ['C:\\\\Users\\\\dhiae\\\\data_science_lab\\\\src\\\\data\\\\gan_generated_img\\\\gan_generated_masks\\\\test\\\\10005.png']\n",
      "processing (0015)-th image... ['C:\\\\Users\\\\dhiae\\\\data_science_lab\\\\src\\\\data\\\\gan_generated_img\\\\gan_generated_masks\\\\test\\\\1001.png']\n",
      "processing (0020)-th image... ['C:\\\\Users\\\\dhiae\\\\data_science_lab\\\\src\\\\data\\\\gan_generated_img\\\\gan_generated_masks\\\\test\\\\10014.png']\n",
      "processing (0025)-th image... ['C:\\\\Users\\\\dhiae\\\\data_science_lab\\\\src\\\\data\\\\gan_generated_img\\\\gan_generated_masks\\\\test\\\\10019.png']\n",
      "processing (0030)-th image... ['C:\\\\Users\\\\dhiae\\\\data_science_lab\\\\src\\\\data\\\\gan_generated_img\\\\gan_generated_masks\\\\test\\\\10023.png']\n",
      "processing (0035)-th image... ['C:\\\\Users\\\\dhiae\\\\data_science_lab\\\\src\\\\data\\\\gan_generated_img\\\\gan_generated_masks\\\\test\\\\10028.png']\n",
      "processing (0040)-th image... ['C:\\\\Users\\\\dhiae\\\\data_science_lab\\\\src\\\\data\\\\gan_generated_img\\\\gan_generated_masks\\\\test\\\\10032.png']\n",
      "processing (0045)-th image... ['C:\\\\Users\\\\dhiae\\\\data_science_lab\\\\src\\\\data\\\\gan_generated_img\\\\gan_generated_masks\\\\test\\\\10037.png']\n",
      "processing (0050)-th image... ['C:\\\\Users\\\\dhiae\\\\data_science_lab\\\\src\\\\data\\\\gan_generated_img\\\\gan_generated_masks\\\\test\\\\10041.png']\n",
      "processing (0055)-th image... ['C:\\\\Users\\\\dhiae\\\\data_science_lab\\\\src\\\\data\\\\gan_generated_img\\\\gan_generated_masks\\\\test\\\\10046.png']\n",
      "processing (0060)-th image... ['C:\\\\Users\\\\dhiae\\\\data_science_lab\\\\src\\\\data\\\\gan_generated_img\\\\gan_generated_masks\\\\test\\\\10050.png']\n",
      "processing (0065)-th image... ['C:\\\\Users\\\\dhiae\\\\data_science_lab\\\\src\\\\data\\\\gan_generated_img\\\\gan_generated_masks\\\\test\\\\10055.png']\n",
      "processing (0070)-th image... ['C:\\\\Users\\\\dhiae\\\\data_science_lab\\\\src\\\\data\\\\gan_generated_img\\\\gan_generated_masks\\\\test\\\\1006.png']\n",
      "processing (0075)-th image... ['C:\\\\Users\\\\dhiae\\\\data_science_lab\\\\src\\\\data\\\\gan_generated_img\\\\gan_generated_masks\\\\test\\\\10064.png']\n",
      "processing (0080)-th image... ['C:\\\\Users\\\\dhiae\\\\data_science_lab\\\\src\\\\data\\\\gan_generated_img\\\\gan_generated_masks\\\\test\\\\10069.png']\n",
      "processing (0085)-th image... ['C:\\\\Users\\\\dhiae\\\\data_science_lab\\\\src\\\\data\\\\gan_generated_img\\\\gan_generated_masks\\\\test\\\\10073.png']\n",
      "processing (0090)-th image... ['C:\\\\Users\\\\dhiae\\\\data_science_lab\\\\src\\\\data\\\\gan_generated_img\\\\gan_generated_masks\\\\test\\\\10078.png']\n",
      "processing (0095)-th image... ['C:\\\\Users\\\\dhiae\\\\data_science_lab\\\\src\\\\data\\\\gan_generated_img\\\\gan_generated_masks\\\\test\\\\10082.png']\n",
      "processing (0100)-th image... ['C:\\\\Users\\\\dhiae\\\\data_science_lab\\\\src\\\\data\\\\gan_generated_img\\\\gan_generated_masks\\\\test\\\\10087.png']\n",
      "processing (0105)-th image... ['C:\\\\Users\\\\dhiae\\\\data_science_lab\\\\src\\\\data\\\\gan_generated_img\\\\gan_generated_masks\\\\test\\\\10091.png']\n",
      "processing (0110)-th image... ['C:\\\\Users\\\\dhiae\\\\data_science_lab\\\\src\\\\data\\\\gan_generated_img\\\\gan_generated_masks\\\\test\\\\10096.png']\n",
      "processing (0115)-th image... ['C:\\\\Users\\\\dhiae\\\\data_science_lab\\\\src\\\\data\\\\gan_generated_img\\\\gan_generated_masks\\\\test\\\\1010.png']\n",
      "processing (0120)-th image... ['C:\\\\Users\\\\dhiae\\\\data_science_lab\\\\src\\\\data\\\\gan_generated_img\\\\gan_generated_masks\\\\test\\\\10104.png']\n",
      "processing (0125)-th image... ['C:\\\\Users\\\\dhiae\\\\data_science_lab\\\\src\\\\data\\\\gan_generated_img\\\\gan_generated_masks\\\\test\\\\10109.png']\n",
      "processing (0130)-th image... ['C:\\\\Users\\\\dhiae\\\\data_science_lab\\\\src\\\\data\\\\gan_generated_img\\\\gan_generated_masks\\\\test\\\\10113.png']\n",
      "processing (0135)-th image... ['C:\\\\Users\\\\dhiae\\\\data_science_lab\\\\src\\\\data\\\\gan_generated_img\\\\gan_generated_masks\\\\test\\\\10118.png']\n",
      "processing (0140)-th image... ['C:\\\\Users\\\\dhiae\\\\data_science_lab\\\\src\\\\data\\\\gan_generated_img\\\\gan_generated_masks\\\\test\\\\10122.png']\n",
      "processing (0145)-th image... ['C:\\\\Users\\\\dhiae\\\\data_science_lab\\\\src\\\\data\\\\gan_generated_img\\\\gan_generated_masks\\\\test\\\\10127.png']\n",
      "processing (0150)-th image... ['C:\\\\Users\\\\dhiae\\\\data_science_lab\\\\src\\\\data\\\\gan_generated_img\\\\gan_generated_masks\\\\test\\\\10131.png']\n",
      "processing (0155)-th image... ['C:\\\\Users\\\\dhiae\\\\data_science_lab\\\\src\\\\data\\\\gan_generated_img\\\\gan_generated_masks\\\\test\\\\10136.png']\n",
      "processing (0160)-th image... ['C:\\\\Users\\\\dhiae\\\\data_science_lab\\\\src\\\\data\\\\gan_generated_img\\\\gan_generated_masks\\\\test\\\\10140.png']\n",
      "processing (0165)-th image... ['C:\\\\Users\\\\dhiae\\\\data_science_lab\\\\src\\\\data\\\\gan_generated_img\\\\gan_generated_masks\\\\test\\\\10145.png']\n",
      "processing (0170)-th image... ['C:\\\\Users\\\\dhiae\\\\data_science_lab\\\\src\\\\data\\\\gan_generated_img\\\\gan_generated_masks\\\\test\\\\1015.png']\n",
      "processing (0175)-th image... ['C:\\\\Users\\\\dhiae\\\\data_science_lab\\\\src\\\\data\\\\gan_generated_img\\\\gan_generated_masks\\\\test\\\\10154.png']\n",
      "processing (0180)-th image... ['C:\\\\Users\\\\dhiae\\\\data_science_lab\\\\src\\\\data\\\\gan_generated_img\\\\gan_generated_masks\\\\test\\\\10159.png']\n",
      "processing (0185)-th image... ['C:\\\\Users\\\\dhiae\\\\data_science_lab\\\\src\\\\data\\\\gan_generated_img\\\\gan_generated_masks\\\\test\\\\10163.png']\n",
      "processing (0190)-th image... ['C:\\\\Users\\\\dhiae\\\\data_science_lab\\\\src\\\\data\\\\gan_generated_img\\\\gan_generated_masks\\\\test\\\\10168.png']\n",
      "processing (0195)-th image... ['C:\\\\Users\\\\dhiae\\\\data_science_lab\\\\src\\\\data\\\\gan_generated_img\\\\gan_generated_masks\\\\test\\\\10172.png']\n",
      "processing (0200)-th image... ['C:\\\\Users\\\\dhiae\\\\data_science_lab\\\\src\\\\data\\\\gan_generated_img\\\\gan_generated_masks\\\\test\\\\10177.png']\n",
      "processing (0205)-th image... ['C:\\\\Users\\\\dhiae\\\\data_science_lab\\\\src\\\\data\\\\gan_generated_img\\\\gan_generated_masks\\\\test\\\\10181.png']\n",
      "processing (0210)-th image... ['C:\\\\Users\\\\dhiae\\\\data_science_lab\\\\src\\\\data\\\\gan_generated_img\\\\gan_generated_masks\\\\test\\\\10186.png']\n",
      "processing (0215)-th image... ['C:\\\\Users\\\\dhiae\\\\data_science_lab\\\\src\\\\data\\\\gan_generated_img\\\\gan_generated_masks\\\\test\\\\10190.png']\n",
      "processing (0220)-th image... ['C:\\\\Users\\\\dhiae\\\\data_science_lab\\\\src\\\\data\\\\gan_generated_img\\\\gan_generated_masks\\\\test\\\\10195.png']\n",
      "processing (0225)-th image... ['C:\\\\Users\\\\dhiae\\\\data_science_lab\\\\src\\\\data\\\\gan_generated_img\\\\gan_generated_masks\\\\test\\\\102.png']\n",
      "processing (0230)-th image... ['C:\\\\Users\\\\dhiae\\\\data_science_lab\\\\src\\\\data\\\\gan_generated_img\\\\gan_generated_masks\\\\test\\\\10203.png']\n",
      "processing (0235)-th image... ['C:\\\\Users\\\\dhiae\\\\data_science_lab\\\\src\\\\data\\\\gan_generated_img\\\\gan_generated_masks\\\\test\\\\10208.png']\n",
      "processing (0240)-th image... ['C:\\\\Users\\\\dhiae\\\\data_science_lab\\\\src\\\\data\\\\gan_generated_img\\\\gan_generated_masks\\\\test\\\\10212.png']\n",
      "processing (0245)-th image... ['C:\\\\Users\\\\dhiae\\\\data_science_lab\\\\src\\\\data\\\\gan_generated_img\\\\gan_generated_masks\\\\test\\\\10217.png']\n",
      "processing (0250)-th image... ['C:\\\\Users\\\\dhiae\\\\data_science_lab\\\\src\\\\data\\\\gan_generated_img\\\\gan_generated_masks\\\\test\\\\10221.png']\n",
      "processing (0255)-th image... ['C:\\\\Users\\\\dhiae\\\\data_science_lab\\\\src\\\\data\\\\gan_generated_img\\\\gan_generated_masks\\\\test\\\\10226.png']\n",
      "processing (0260)-th image... ['C:\\\\Users\\\\dhiae\\\\data_science_lab\\\\src\\\\data\\\\gan_generated_img\\\\gan_generated_masks\\\\test\\\\10230.png']\n",
      "processing (0265)-th image... ['C:\\\\Users\\\\dhiae\\\\data_science_lab\\\\src\\\\data\\\\gan_generated_img\\\\gan_generated_masks\\\\test\\\\10235.png']\n",
      "processing (0270)-th image... ['C:\\\\Users\\\\dhiae\\\\data_science_lab\\\\src\\\\data\\\\gan_generated_img\\\\gan_generated_masks\\\\test\\\\1024.png']\n",
      "processing (0275)-th image... ['C:\\\\Users\\\\dhiae\\\\data_science_lab\\\\src\\\\data\\\\gan_generated_img\\\\gan_generated_masks\\\\test\\\\10244.png']\n",
      "processing (0280)-th image... ['C:\\\\Users\\\\dhiae\\\\data_science_lab\\\\src\\\\data\\\\gan_generated_img\\\\gan_generated_masks\\\\test\\\\10249.png']\n",
      "processing (0285)-th image... ['C:\\\\Users\\\\dhiae\\\\data_science_lab\\\\src\\\\data\\\\gan_generated_img\\\\gan_generated_masks\\\\test\\\\10253.png']\n",
      "processing (0290)-th image... ['C:\\\\Users\\\\dhiae\\\\data_science_lab\\\\src\\\\data\\\\gan_generated_img\\\\gan_generated_masks\\\\test\\\\10258.png']\n",
      "processing (0295)-th image... ['C:\\\\Users\\\\dhiae\\\\data_science_lab\\\\src\\\\data\\\\gan_generated_img\\\\gan_generated_masks\\\\test\\\\10262.png']\n",
      "processing (0300)-th image... ['C:\\\\Users\\\\dhiae\\\\data_science_lab\\\\src\\\\data\\\\gan_generated_img\\\\gan_generated_masks\\\\test\\\\10267.png']\n",
      "processing (0305)-th image... ['C:\\\\Users\\\\dhiae\\\\data_science_lab\\\\src\\\\data\\\\gan_generated_img\\\\gan_generated_masks\\\\test\\\\10271.png']\n",
      "processing (0310)-th image... ['C:\\\\Users\\\\dhiae\\\\data_science_lab\\\\src\\\\data\\\\gan_generated_img\\\\gan_generated_masks\\\\test\\\\10276.png']\n",
      "processing (0315)-th image... ['C:\\\\Users\\\\dhiae\\\\data_science_lab\\\\src\\\\data\\\\gan_generated_img\\\\gan_generated_masks\\\\test\\\\10280.png']\n",
      "processing (0320)-th image... ['C:\\\\Users\\\\dhiae\\\\data_science_lab\\\\src\\\\data\\\\gan_generated_img\\\\gan_generated_masks\\\\test\\\\10285.png']\n",
      "processing (0325)-th image... ['C:\\\\Users\\\\dhiae\\\\data_science_lab\\\\src\\\\data\\\\gan_generated_img\\\\gan_generated_masks\\\\test\\\\1029.png']\n",
      "processing (0330)-th image... ['C:\\\\Users\\\\dhiae\\\\data_science_lab\\\\src\\\\data\\\\gan_generated_img\\\\gan_generated_masks\\\\test\\\\10294.png']\n",
      "processing (0335)-th image... ['C:\\\\Users\\\\dhiae\\\\data_science_lab\\\\src\\\\data\\\\gan_generated_img\\\\gan_generated_masks\\\\test\\\\10299.png']\n",
      "processing (0340)-th image... ['C:\\\\Users\\\\dhiae\\\\data_science_lab\\\\src\\\\data\\\\gan_generated_img\\\\gan_generated_masks\\\\test\\\\10302.png']\n",
      "processing (0345)-th image... ['C:\\\\Users\\\\dhiae\\\\data_science_lab\\\\src\\\\data\\\\gan_generated_img\\\\gan_generated_masks\\\\test\\\\10307.png']\n",
      "processing (0350)-th image... ['C:\\\\Users\\\\dhiae\\\\data_science_lab\\\\src\\\\data\\\\gan_generated_img\\\\gan_generated_masks\\\\test\\\\10311.png']\n",
      "processing (0355)-th image... ['C:\\\\Users\\\\dhiae\\\\data_science_lab\\\\src\\\\data\\\\gan_generated_img\\\\gan_generated_masks\\\\test\\\\10316.png']\n",
      "processing (0360)-th image... ['C:\\\\Users\\\\dhiae\\\\data_science_lab\\\\src\\\\data\\\\gan_generated_img\\\\gan_generated_masks\\\\test\\\\10320.png']\n",
      "processing (0365)-th image... ['C:\\\\Users\\\\dhiae\\\\data_science_lab\\\\src\\\\data\\\\gan_generated_img\\\\gan_generated_masks\\\\test\\\\10325.png']\n",
      "processing (0370)-th image... ['C:\\\\Users\\\\dhiae\\\\data_science_lab\\\\src\\\\data\\\\gan_generated_img\\\\gan_generated_masks\\\\test\\\\1033.png']\n",
      "processing (0375)-th image... ['C:\\\\Users\\\\dhiae\\\\data_science_lab\\\\src\\\\data\\\\gan_generated_img\\\\gan_generated_masks\\\\test\\\\10334.png']\n",
      "processing (0380)-th image... ['C:\\\\Users\\\\dhiae\\\\data_science_lab\\\\src\\\\data\\\\gan_generated_img\\\\gan_generated_masks\\\\test\\\\10339.png']\n",
      "processing (0385)-th image... ['C:\\\\Users\\\\dhiae\\\\data_science_lab\\\\src\\\\data\\\\gan_generated_img\\\\gan_generated_masks\\\\test\\\\10343.png']\n",
      "processing (0390)-th image... ['C:\\\\Users\\\\dhiae\\\\data_science_lab\\\\src\\\\data\\\\gan_generated_img\\\\gan_generated_masks\\\\test\\\\10348.png']\n",
      "processing (0395)-th image... ['C:\\\\Users\\\\dhiae\\\\data_science_lab\\\\src\\\\data\\\\gan_generated_img\\\\gan_generated_masks\\\\test\\\\10352.png']\n",
      "processing (0400)-th image... ['C:\\\\Users\\\\dhiae\\\\data_science_lab\\\\src\\\\data\\\\gan_generated_img\\\\gan_generated_masks\\\\test\\\\10357.png']\n",
      "processing (0405)-th image... ['C:\\\\Users\\\\dhiae\\\\data_science_lab\\\\src\\\\data\\\\gan_generated_img\\\\gan_generated_masks\\\\test\\\\10361.png']\n",
      "processing (0410)-th image... ['C:\\\\Users\\\\dhiae\\\\data_science_lab\\\\src\\\\data\\\\gan_generated_img\\\\gan_generated_masks\\\\test\\\\10366.png']\n",
      "processing (0415)-th image... ['C:\\\\Users\\\\dhiae\\\\data_science_lab\\\\src\\\\data\\\\gan_generated_img\\\\gan_generated_masks\\\\test\\\\10370.png']\n",
      "processing (0420)-th image... ['C:\\\\Users\\\\dhiae\\\\data_science_lab\\\\src\\\\data\\\\gan_generated_img\\\\gan_generated_masks\\\\test\\\\10375.png']\n",
      "processing (0425)-th image... ['C:\\\\Users\\\\dhiae\\\\data_science_lab\\\\src\\\\data\\\\gan_generated_img\\\\gan_generated_masks\\\\test\\\\1038.png']\n",
      "processing (0430)-th image... ['C:\\\\Users\\\\dhiae\\\\data_science_lab\\\\src\\\\data\\\\gan_generated_img\\\\gan_generated_masks\\\\test\\\\10384.png']\n",
      "processing (0435)-th image... ['C:\\\\Users\\\\dhiae\\\\data_science_lab\\\\src\\\\data\\\\gan_generated_img\\\\gan_generated_masks\\\\test\\\\10389.png']\n",
      "processing (0440)-th image... ['C:\\\\Users\\\\dhiae\\\\data_science_lab\\\\src\\\\data\\\\gan_generated_img\\\\gan_generated_masks\\\\test\\\\10393.png']\n",
      "processing (0445)-th image... ['C:\\\\Users\\\\dhiae\\\\data_science_lab\\\\src\\\\data\\\\gan_generated_img\\\\gan_generated_masks\\\\test\\\\10398.png']\n",
      "processing (0450)-th image... ['C:\\\\Users\\\\dhiae\\\\data_science_lab\\\\src\\\\data\\\\gan_generated_img\\\\gan_generated_masks\\\\test\\\\10401.png']\n",
      "processing (0455)-th image... ['C:\\\\Users\\\\dhiae\\\\data_science_lab\\\\src\\\\data\\\\gan_generated_img\\\\gan_generated_masks\\\\test\\\\10406.png']\n",
      "processing (0460)-th image... ['C:\\\\Users\\\\dhiae\\\\data_science_lab\\\\src\\\\data\\\\gan_generated_img\\\\gan_generated_masks\\\\test\\\\10410.png']\n",
      "processing (0465)-th image... ['C:\\\\Users\\\\dhiae\\\\data_science_lab\\\\src\\\\data\\\\gan_generated_img\\\\gan_generated_masks\\\\test\\\\10415.png']\n",
      "processing (0470)-th image... ['C:\\\\Users\\\\dhiae\\\\data_science_lab\\\\src\\\\data\\\\gan_generated_img\\\\gan_generated_masks\\\\test\\\\1042.png']\n",
      "processing (0475)-th image... ['C:\\\\Users\\\\dhiae\\\\data_science_lab\\\\src\\\\data\\\\gan_generated_img\\\\gan_generated_masks\\\\test\\\\10424.png']\n",
      "processing (0480)-th image... ['C:\\\\Users\\\\dhiae\\\\data_science_lab\\\\src\\\\data\\\\gan_generated_img\\\\gan_generated_masks\\\\test\\\\10429.png']\n",
      "processing (0485)-th image... ['C:\\\\Users\\\\dhiae\\\\data_science_lab\\\\src\\\\data\\\\gan_generated_img\\\\gan_generated_masks\\\\test\\\\10433.png']\n",
      "processing (0490)-th image... ['C:\\\\Users\\\\dhiae\\\\data_science_lab\\\\src\\\\data\\\\gan_generated_img\\\\gan_generated_masks\\\\test\\\\10438.png']\n",
      "processing (0495)-th image... ['C:\\\\Users\\\\dhiae\\\\data_science_lab\\\\src\\\\data\\\\gan_generated_img\\\\gan_generated_masks\\\\test\\\\10442.png']\n",
      "processing (0500)-th image... ['C:\\\\Users\\\\dhiae\\\\data_science_lab\\\\src\\\\data\\\\gan_generated_img\\\\gan_generated_masks\\\\test\\\\10447.png']\n",
      "processing (0505)-th image... ['C:\\\\Users\\\\dhiae\\\\data_science_lab\\\\src\\\\data\\\\gan_generated_img\\\\gan_generated_masks\\\\test\\\\10451.png']\n",
      "processing (0510)-th image... ['C:\\\\Users\\\\dhiae\\\\data_science_lab\\\\src\\\\data\\\\gan_generated_img\\\\gan_generated_masks\\\\test\\\\10456.png']\n",
      "processing (0515)-th image... ['C:\\\\Users\\\\dhiae\\\\data_science_lab\\\\src\\\\data\\\\gan_generated_img\\\\gan_generated_masks\\\\test\\\\10460.png']\n",
      "processing (0520)-th image... ['C:\\\\Users\\\\dhiae\\\\data_science_lab\\\\src\\\\data\\\\gan_generated_img\\\\gan_generated_masks\\\\test\\\\10465.png']\n",
      "processing (0525)-th image... ['C:\\\\Users\\\\dhiae\\\\data_science_lab\\\\src\\\\data\\\\gan_generated_img\\\\gan_generated_masks\\\\test\\\\1047.png']\n",
      "processing (0530)-th image... ['C:\\\\Users\\\\dhiae\\\\data_science_lab\\\\src\\\\data\\\\gan_generated_img\\\\gan_generated_masks\\\\test\\\\10474.png']\n",
      "processing (0535)-th image... ['C:\\\\Users\\\\dhiae\\\\data_science_lab\\\\src\\\\data\\\\gan_generated_img\\\\gan_generated_masks\\\\test\\\\10479.png']\n",
      "processing (0540)-th image... ['C:\\\\Users\\\\dhiae\\\\data_science_lab\\\\src\\\\data\\\\gan_generated_img\\\\gan_generated_masks\\\\test\\\\10483.png']\n",
      "processing (0545)-th image... ['C:\\\\Users\\\\dhiae\\\\data_science_lab\\\\src\\\\data\\\\gan_generated_img\\\\gan_generated_masks\\\\test\\\\10488.png']\n",
      "processing (0550)-th image... ['C:\\\\Users\\\\dhiae\\\\data_science_lab\\\\src\\\\data\\\\gan_generated_img\\\\gan_generated_masks\\\\test\\\\10492.png']\n",
      "processing (0555)-th image... ['C:\\\\Users\\\\dhiae\\\\data_science_lab\\\\src\\\\data\\\\gan_generated_img\\\\gan_generated_masks\\\\test\\\\10497.png']\n",
      "processing (0560)-th image... ['C:\\\\Users\\\\dhiae\\\\data_science_lab\\\\src\\\\data\\\\gan_generated_img\\\\gan_generated_masks\\\\test\\\\10500.png']\n",
      "processing (0565)-th image... ['C:\\\\Users\\\\dhiae\\\\data_science_lab\\\\src\\\\data\\\\gan_generated_img\\\\gan_generated_masks\\\\test\\\\10505.png']\n",
      "processing (0570)-th image... ['C:\\\\Users\\\\dhiae\\\\data_science_lab\\\\src\\\\data\\\\gan_generated_img\\\\gan_generated_masks\\\\test\\\\1051.png']\n",
      "processing (0575)-th image... ['C:\\\\Users\\\\dhiae\\\\data_science_lab\\\\src\\\\data\\\\gan_generated_img\\\\gan_generated_masks\\\\test\\\\10514.png']\n",
      "processing (0580)-th image... ['C:\\\\Users\\\\dhiae\\\\data_science_lab\\\\src\\\\data\\\\gan_generated_img\\\\gan_generated_masks\\\\test\\\\10519.png']\n",
      "processing (0585)-th image... ['C:\\\\Users\\\\dhiae\\\\data_science_lab\\\\src\\\\data\\\\gan_generated_img\\\\gan_generated_masks\\\\test\\\\10523.png']\n",
      "processing (0590)-th image... ['C:\\\\Users\\\\dhiae\\\\data_science_lab\\\\src\\\\data\\\\gan_generated_img\\\\gan_generated_masks\\\\test\\\\10528.png']\n",
      "processing (0595)-th image... ['C:\\\\Users\\\\dhiae\\\\data_science_lab\\\\src\\\\data\\\\gan_generated_img\\\\gan_generated_masks\\\\test\\\\10532.png']\n",
      "processing (0600)-th image... ['C:\\\\Users\\\\dhiae\\\\data_science_lab\\\\src\\\\data\\\\gan_generated_img\\\\gan_generated_masks\\\\test\\\\10537.png']\n",
      "processing (0605)-th image... ['C:\\\\Users\\\\dhiae\\\\data_science_lab\\\\src\\\\data\\\\gan_generated_img\\\\gan_generated_masks\\\\test\\\\10541.png']\n",
      "processing (0610)-th image... ['C:\\\\Users\\\\dhiae\\\\data_science_lab\\\\src\\\\data\\\\gan_generated_img\\\\gan_generated_masks\\\\test\\\\10546.png']\n",
      "processing (0615)-th image... ['C:\\\\Users\\\\dhiae\\\\data_science_lab\\\\src\\\\data\\\\gan_generated_img\\\\gan_generated_masks\\\\test\\\\10550.png']\n",
      "processing (0620)-th image... ['C:\\\\Users\\\\dhiae\\\\data_science_lab\\\\src\\\\data\\\\gan_generated_img\\\\gan_generated_masks\\\\test\\\\10555.png']\n",
      "processing (0625)-th image... ['C:\\\\Users\\\\dhiae\\\\data_science_lab\\\\src\\\\data\\\\gan_generated_img\\\\gan_generated_masks\\\\test\\\\1056.png']\n",
      "processing (0630)-th image... ['C:\\\\Users\\\\dhiae\\\\data_science_lab\\\\src\\\\data\\\\gan_generated_img\\\\gan_generated_masks\\\\test\\\\10564.png']\n",
      "processing (0635)-th image... ['C:\\\\Users\\\\dhiae\\\\data_science_lab\\\\src\\\\data\\\\gan_generated_img\\\\gan_generated_masks\\\\test\\\\10569.png']\n",
      "processing (0640)-th image... ['C:\\\\Users\\\\dhiae\\\\data_science_lab\\\\src\\\\data\\\\gan_generated_img\\\\gan_generated_masks\\\\test\\\\10573.png']\n",
      "processing (0645)-th image... ['C:\\\\Users\\\\dhiae\\\\data_science_lab\\\\src\\\\data\\\\gan_generated_img\\\\gan_generated_masks\\\\test\\\\10578.png']\n",
      "processing (0650)-th image... ['C:\\\\Users\\\\dhiae\\\\data_science_lab\\\\src\\\\data\\\\gan_generated_img\\\\gan_generated_masks\\\\test\\\\10582.png']\n",
      "processing (0655)-th image... ['C:\\\\Users\\\\dhiae\\\\data_science_lab\\\\src\\\\data\\\\gan_generated_img\\\\gan_generated_masks\\\\test\\\\10587.png']\n",
      "processing (0660)-th image... ['C:\\\\Users\\\\dhiae\\\\data_science_lab\\\\src\\\\data\\\\gan_generated_img\\\\gan_generated_masks\\\\test\\\\10591.png']\n",
      "processing (0665)-th image... ['C:\\\\Users\\\\dhiae\\\\data_science_lab\\\\src\\\\data\\\\gan_generated_img\\\\gan_generated_masks\\\\test\\\\10596.png']\n",
      "processing (0670)-th image... ['C:\\\\Users\\\\dhiae\\\\data_science_lab\\\\src\\\\data\\\\gan_generated_img\\\\gan_generated_masks\\\\test\\\\1060.png']\n",
      "processing (0675)-th image... ['C:\\\\Users\\\\dhiae\\\\data_science_lab\\\\src\\\\data\\\\gan_generated_img\\\\gan_generated_masks\\\\test\\\\10604.png']\n",
      "processing (0680)-th image... ['C:\\\\Users\\\\dhiae\\\\data_science_lab\\\\src\\\\data\\\\gan_generated_img\\\\gan_generated_masks\\\\test\\\\10609.png']\n",
      "processing (0685)-th image... ['C:\\\\Users\\\\dhiae\\\\data_science_lab\\\\src\\\\data\\\\gan_generated_img\\\\gan_generated_masks\\\\test\\\\10613.png']\n",
      "processing (0690)-th image... ['C:\\\\Users\\\\dhiae\\\\data_science_lab\\\\src\\\\data\\\\gan_generated_img\\\\gan_generated_masks\\\\test\\\\10618.png']\n",
      "processing (0695)-th image... ['C:\\\\Users\\\\dhiae\\\\data_science_lab\\\\src\\\\data\\\\gan_generated_img\\\\gan_generated_masks\\\\test\\\\10622.png']\n",
      "processing (0700)-th image... ['C:\\\\Users\\\\dhiae\\\\data_science_lab\\\\src\\\\data\\\\gan_generated_img\\\\gan_generated_masks\\\\test\\\\10627.png']\n",
      "processing (0705)-th image... ['C:\\\\Users\\\\dhiae\\\\data_science_lab\\\\src\\\\data\\\\gan_generated_img\\\\gan_generated_masks\\\\test\\\\10631.png']\n",
      "processing (0710)-th image... ['C:\\\\Users\\\\dhiae\\\\data_science_lab\\\\src\\\\data\\\\gan_generated_img\\\\gan_generated_masks\\\\test\\\\10636.png']\n",
      "processing (0715)-th image... ['C:\\\\Users\\\\dhiae\\\\data_science_lab\\\\src\\\\data\\\\gan_generated_img\\\\gan_generated_masks\\\\test\\\\10640.png']\n",
      "processing (0720)-th image... ['C:\\\\Users\\\\dhiae\\\\data_science_lab\\\\src\\\\data\\\\gan_generated_img\\\\gan_generated_masks\\\\test\\\\10645.png']\n",
      "processing (0725)-th image... ['C:\\\\Users\\\\dhiae\\\\data_science_lab\\\\src\\\\data\\\\gan_generated_img\\\\gan_generated_masks\\\\test\\\\1065.png']\n",
      "processing (0730)-th image... ['C:\\\\Users\\\\dhiae\\\\data_science_lab\\\\src\\\\data\\\\gan_generated_img\\\\gan_generated_masks\\\\test\\\\10654.png']\n",
      "processing (0735)-th image... ['C:\\\\Users\\\\dhiae\\\\data_science_lab\\\\src\\\\data\\\\gan_generated_img\\\\gan_generated_masks\\\\test\\\\10659.png']\n",
      "processing (0740)-th image... ['C:\\\\Users\\\\dhiae\\\\data_science_lab\\\\src\\\\data\\\\gan_generated_img\\\\gan_generated_masks\\\\test\\\\10663.png']\n",
      "processing (0745)-th image... ['C:\\\\Users\\\\dhiae\\\\data_science_lab\\\\src\\\\data\\\\gan_generated_img\\\\gan_generated_masks\\\\test\\\\10668.png']\n",
      "processing (0750)-th image... ['C:\\\\Users\\\\dhiae\\\\data_science_lab\\\\src\\\\data\\\\gan_generated_img\\\\gan_generated_masks\\\\test\\\\10672.png']\n",
      "processing (0755)-th image... ['C:\\\\Users\\\\dhiae\\\\data_science_lab\\\\src\\\\data\\\\gan_generated_img\\\\gan_generated_masks\\\\test\\\\10677.png']\n",
      "processing (0760)-th image... ['C:\\\\Users\\\\dhiae\\\\data_science_lab\\\\src\\\\data\\\\gan_generated_img\\\\gan_generated_masks\\\\test\\\\10681.png']\n",
      "processing (0765)-th image... ['C:\\\\Users\\\\dhiae\\\\data_science_lab\\\\src\\\\data\\\\gan_generated_img\\\\gan_generated_masks\\\\test\\\\10686.png']\n",
      "processing (0770)-th image... ['C:\\\\Users\\\\dhiae\\\\data_science_lab\\\\src\\\\data\\\\gan_generated_img\\\\gan_generated_masks\\\\test\\\\10690.png']\n",
      "processing (0775)-th image... ['C:\\\\Users\\\\dhiae\\\\data_science_lab\\\\src\\\\data\\\\gan_generated_img\\\\gan_generated_masks\\\\test\\\\10695.png']\n",
      "processing (0780)-th image... ['C:\\\\Users\\\\dhiae\\\\data_science_lab\\\\src\\\\data\\\\gan_generated_img\\\\gan_generated_masks\\\\test\\\\107.png']\n",
      "processing (0785)-th image... ['C:\\\\Users\\\\dhiae\\\\data_science_lab\\\\src\\\\data\\\\gan_generated_img\\\\gan_generated_masks\\\\test\\\\10703.png']\n",
      "processing (0790)-th image... ['C:\\\\Users\\\\dhiae\\\\data_science_lab\\\\src\\\\data\\\\gan_generated_img\\\\gan_generated_masks\\\\test\\\\10708.png']\n",
      "processing (0795)-th image... ['C:\\\\Users\\\\dhiae\\\\data_science_lab\\\\src\\\\data\\\\gan_generated_img\\\\gan_generated_masks\\\\test\\\\10712.png']\n",
      "processing (0800)-th image... ['C:\\\\Users\\\\dhiae\\\\data_science_lab\\\\src\\\\data\\\\gan_generated_img\\\\gan_generated_masks\\\\test\\\\10717.png']\n",
      "processing (0805)-th image... ['C:\\\\Users\\\\dhiae\\\\data_science_lab\\\\src\\\\data\\\\gan_generated_img\\\\gan_generated_masks\\\\test\\\\10721.png']\n",
      "processing (0810)-th image... ['C:\\\\Users\\\\dhiae\\\\data_science_lab\\\\src\\\\data\\\\gan_generated_img\\\\gan_generated_masks\\\\test\\\\10726.png']\n",
      "processing (0815)-th image... ['C:\\\\Users\\\\dhiae\\\\data_science_lab\\\\src\\\\data\\\\gan_generated_img\\\\gan_generated_masks\\\\test\\\\10730.png']\n",
      "processing (0820)-th image... ['C:\\\\Users\\\\dhiae\\\\data_science_lab\\\\src\\\\data\\\\gan_generated_img\\\\gan_generated_masks\\\\test\\\\10735.png']\n",
      "processing (0825)-th image... ['C:\\\\Users\\\\dhiae\\\\data_science_lab\\\\src\\\\data\\\\gan_generated_img\\\\gan_generated_masks\\\\test\\\\1074.png']\n",
      "processing (0830)-th image... ['C:\\\\Users\\\\dhiae\\\\data_science_lab\\\\src\\\\data\\\\gan_generated_img\\\\gan_generated_masks\\\\test\\\\10744.png']\n",
      "processing (0835)-th image... ['C:\\\\Users\\\\dhiae\\\\data_science_lab\\\\src\\\\data\\\\gan_generated_img\\\\gan_generated_masks\\\\test\\\\10749.png']\n",
      "processing (0840)-th image... ['C:\\\\Users\\\\dhiae\\\\data_science_lab\\\\src\\\\data\\\\gan_generated_img\\\\gan_generated_masks\\\\test\\\\10753.png']\n",
      "processing (0845)-th image... ['C:\\\\Users\\\\dhiae\\\\data_science_lab\\\\src\\\\data\\\\gan_generated_img\\\\gan_generated_masks\\\\test\\\\10758.png']\n",
      "processing (0850)-th image... ['C:\\\\Users\\\\dhiae\\\\data_science_lab\\\\src\\\\data\\\\gan_generated_img\\\\gan_generated_masks\\\\test\\\\10762.png']\n",
      "processing (0855)-th image... ['C:\\\\Users\\\\dhiae\\\\data_science_lab\\\\src\\\\data\\\\gan_generated_img\\\\gan_generated_masks\\\\test\\\\10767.png']\n",
      "processing (0860)-th image... ['C:\\\\Users\\\\dhiae\\\\data_science_lab\\\\src\\\\data\\\\gan_generated_img\\\\gan_generated_masks\\\\test\\\\10771.png']\n",
      "processing (0865)-th image... ['C:\\\\Users\\\\dhiae\\\\data_science_lab\\\\src\\\\data\\\\gan_generated_img\\\\gan_generated_masks\\\\test\\\\10776.png']\n",
      "processing (0870)-th image... ['C:\\\\Users\\\\dhiae\\\\data_science_lab\\\\src\\\\data\\\\gan_generated_img\\\\gan_generated_masks\\\\test\\\\10780.png']\n",
      "processing (0875)-th image... ['C:\\\\Users\\\\dhiae\\\\data_science_lab\\\\src\\\\data\\\\gan_generated_img\\\\gan_generated_masks\\\\test\\\\10785.png']\n",
      "processing (0880)-th image... ['C:\\\\Users\\\\dhiae\\\\data_science_lab\\\\src\\\\data\\\\gan_generated_img\\\\gan_generated_masks\\\\test\\\\1079.png']\n",
      "processing (0885)-th image... ['C:\\\\Users\\\\dhiae\\\\data_science_lab\\\\src\\\\data\\\\gan_generated_img\\\\gan_generated_masks\\\\test\\\\10794.png']\n",
      "processing (0890)-th image... ['C:\\\\Users\\\\dhiae\\\\data_science_lab\\\\src\\\\data\\\\gan_generated_img\\\\gan_generated_masks\\\\test\\\\10799.png']\n",
      "processing (0895)-th image... ['C:\\\\Users\\\\dhiae\\\\data_science_lab\\\\src\\\\data\\\\gan_generated_img\\\\gan_generated_masks\\\\test\\\\10802.png']\n",
      "processing (0900)-th image... ['C:\\\\Users\\\\dhiae\\\\data_science_lab\\\\src\\\\data\\\\gan_generated_img\\\\gan_generated_masks\\\\test\\\\10807.png']\n",
      "processing (0905)-th image... ['C:\\\\Users\\\\dhiae\\\\data_science_lab\\\\src\\\\data\\\\gan_generated_img\\\\gan_generated_masks\\\\test\\\\10811.png']\n",
      "processing (0910)-th image... ['C:\\\\Users\\\\dhiae\\\\data_science_lab\\\\src\\\\data\\\\gan_generated_img\\\\gan_generated_masks\\\\test\\\\10816.png']\n",
      "processing (0915)-th image... ['C:\\\\Users\\\\dhiae\\\\data_science_lab\\\\src\\\\data\\\\gan_generated_img\\\\gan_generated_masks\\\\test\\\\10820.png']\n",
      "processing (0920)-th image... ['C:\\\\Users\\\\dhiae\\\\data_science_lab\\\\src\\\\data\\\\gan_generated_img\\\\gan_generated_masks\\\\test\\\\10825.png']\n",
      "processing (0925)-th image... ['C:\\\\Users\\\\dhiae\\\\data_science_lab\\\\src\\\\data\\\\gan_generated_img\\\\gan_generated_masks\\\\test\\\\1083.png']\n",
      "processing (0930)-th image... ['C:\\\\Users\\\\dhiae\\\\data_science_lab\\\\src\\\\data\\\\gan_generated_img\\\\gan_generated_masks\\\\test\\\\10834.png']\n",
      "processing (0935)-th image... ['C:\\\\Users\\\\dhiae\\\\data_science_lab\\\\src\\\\data\\\\gan_generated_img\\\\gan_generated_masks\\\\test\\\\10839.png']\n",
      "processing (0940)-th image... ['C:\\\\Users\\\\dhiae\\\\data_science_lab\\\\src\\\\data\\\\gan_generated_img\\\\gan_generated_masks\\\\test\\\\10843.png']\n",
      "processing (0945)-th image... ['C:\\\\Users\\\\dhiae\\\\data_science_lab\\\\src\\\\data\\\\gan_generated_img\\\\gan_generated_masks\\\\test\\\\10848.png']\n",
      "processing (0950)-th image... ['C:\\\\Users\\\\dhiae\\\\data_science_lab\\\\src\\\\data\\\\gan_generated_img\\\\gan_generated_masks\\\\test\\\\10852.png']\n",
      "processing (0955)-th image... ['C:\\\\Users\\\\dhiae\\\\data_science_lab\\\\src\\\\data\\\\gan_generated_img\\\\gan_generated_masks\\\\test\\\\10857.png']\n",
      "processing (0960)-th image... ['C:\\\\Users\\\\dhiae\\\\data_science_lab\\\\src\\\\data\\\\gan_generated_img\\\\gan_generated_masks\\\\test\\\\10861.png']\n",
      "processing (0965)-th image... ['C:\\\\Users\\\\dhiae\\\\data_science_lab\\\\src\\\\data\\\\gan_generated_img\\\\gan_generated_masks\\\\test\\\\10866.png']\n",
      "processing (0970)-th image... ['C:\\\\Users\\\\dhiae\\\\data_science_lab\\\\src\\\\data\\\\gan_generated_img\\\\gan_generated_masks\\\\test\\\\10870.png']\n",
      "processing (0975)-th image... ['C:\\\\Users\\\\dhiae\\\\data_science_lab\\\\src\\\\data\\\\gan_generated_img\\\\gan_generated_masks\\\\test\\\\10875.png']\n",
      "processing (0980)-th image... ['C:\\\\Users\\\\dhiae\\\\data_science_lab\\\\src\\\\data\\\\gan_generated_img\\\\gan_generated_masks\\\\test\\\\1088.png']\n",
      "processing (0985)-th image... ['C:\\\\Users\\\\dhiae\\\\data_science_lab\\\\src\\\\data\\\\gan_generated_img\\\\gan_generated_masks\\\\test\\\\10884.png']\n",
      "processing (0990)-th image... ['C:\\\\Users\\\\dhiae\\\\data_science_lab\\\\src\\\\data\\\\gan_generated_img\\\\gan_generated_masks\\\\test\\\\10889.png']\n",
      "processing (0995)-th image... ['C:\\\\Users\\\\dhiae\\\\data_science_lab\\\\src\\\\data\\\\gan_generated_img\\\\gan_generated_masks\\\\test\\\\10893.png']\n",
      "processing (1000)-th image... ['C:\\\\Users\\\\dhiae\\\\data_science_lab\\\\src\\\\data\\\\gan_generated_img\\\\gan_generated_masks\\\\test\\\\10898.png']\n",
      "processing (1005)-th image... ['C:\\\\Users\\\\dhiae\\\\data_science_lab\\\\src\\\\data\\\\gan_generated_img\\\\gan_generated_masks\\\\test\\\\10901.png']\n",
      "processing (1010)-th image... ['C:\\\\Users\\\\dhiae\\\\data_science_lab\\\\src\\\\data\\\\gan_generated_img\\\\gan_generated_masks\\\\test\\\\10906.png']\n",
      "processing (1015)-th image... ['C:\\\\Users\\\\dhiae\\\\data_science_lab\\\\src\\\\data\\\\gan_generated_img\\\\gan_generated_masks\\\\test\\\\10910.png']\n",
      "processing (1020)-th image... ['C:\\\\Users\\\\dhiae\\\\data_science_lab\\\\src\\\\data\\\\gan_generated_img\\\\gan_generated_masks\\\\test\\\\10915.png']\n",
      "processing (1025)-th image... ['C:\\\\Users\\\\dhiae\\\\data_science_lab\\\\src\\\\data\\\\gan_generated_img\\\\gan_generated_masks\\\\test\\\\1092.png']\n",
      "processing (1030)-th image... ['C:\\\\Users\\\\dhiae\\\\data_science_lab\\\\src\\\\data\\\\gan_generated_img\\\\gan_generated_masks\\\\test\\\\10924.png']\n",
      "processing (1035)-th image... ['C:\\\\Users\\\\dhiae\\\\data_science_lab\\\\src\\\\data\\\\gan_generated_img\\\\gan_generated_masks\\\\test\\\\10929.png']\n",
      "processing (1040)-th image... ['C:\\\\Users\\\\dhiae\\\\data_science_lab\\\\src\\\\data\\\\gan_generated_img\\\\gan_generated_masks\\\\test\\\\10933.png']\n",
      "processing (1045)-th image... ['C:\\\\Users\\\\dhiae\\\\data_science_lab\\\\src\\\\data\\\\gan_generated_img\\\\gan_generated_masks\\\\test\\\\10938.png']\n",
      "processing (1050)-th image... ['C:\\\\Users\\\\dhiae\\\\data_science_lab\\\\src\\\\data\\\\gan_generated_img\\\\gan_generated_masks\\\\test\\\\10942.png']\n",
      "processing (1055)-th image... ['C:\\\\Users\\\\dhiae\\\\data_science_lab\\\\src\\\\data\\\\gan_generated_img\\\\gan_generated_masks\\\\test\\\\10947.png']\n",
      "processing (1060)-th image... ['C:\\\\Users\\\\dhiae\\\\data_science_lab\\\\src\\\\data\\\\gan_generated_img\\\\gan_generated_masks\\\\test\\\\10951.png']\n",
      "processing (1065)-th image... ['C:\\\\Users\\\\dhiae\\\\data_science_lab\\\\src\\\\data\\\\gan_generated_img\\\\gan_generated_masks\\\\test\\\\10956.png']\n",
      "processing (1070)-th image... ['C:\\\\Users\\\\dhiae\\\\data_science_lab\\\\src\\\\data\\\\gan_generated_img\\\\gan_generated_masks\\\\test\\\\10960.png']\n",
      "processing (1075)-th image... ['C:\\\\Users\\\\dhiae\\\\data_science_lab\\\\src\\\\data\\\\gan_generated_img\\\\gan_generated_masks\\\\test\\\\10965.png']\n",
      "processing (1080)-th image... ['C:\\\\Users\\\\dhiae\\\\data_science_lab\\\\src\\\\data\\\\gan_generated_img\\\\gan_generated_masks\\\\test\\\\1097.png']\n",
      "processing (1085)-th image... ['C:\\\\Users\\\\dhiae\\\\data_science_lab\\\\src\\\\data\\\\gan_generated_img\\\\gan_generated_masks\\\\test\\\\10974.png']\n",
      "processing (1090)-th image... ['C:\\\\Users\\\\dhiae\\\\data_science_lab\\\\src\\\\data\\\\gan_generated_img\\\\gan_generated_masks\\\\test\\\\10979.png']\n",
      "processing (1095)-th image... ['C:\\\\Users\\\\dhiae\\\\data_science_lab\\\\src\\\\data\\\\gan_generated_img\\\\gan_generated_masks\\\\test\\\\10983.png']\n",
      "processing (1100)-th image... ['C:\\\\Users\\\\dhiae\\\\data_science_lab\\\\src\\\\data\\\\gan_generated_img\\\\gan_generated_masks\\\\test\\\\10988.png']\n",
      "processing (1105)-th image... ['C:\\\\Users\\\\dhiae\\\\data_science_lab\\\\src\\\\data\\\\gan_generated_img\\\\gan_generated_masks\\\\test\\\\10992.png']\n",
      "processing (1110)-th image... ['C:\\\\Users\\\\dhiae\\\\data_science_lab\\\\src\\\\data\\\\gan_generated_img\\\\gan_generated_masks\\\\test\\\\10997.png']\n",
      "processing (1115)-th image... ['C:\\\\Users\\\\dhiae\\\\data_science_lab\\\\src\\\\data\\\\gan_generated_img\\\\gan_generated_masks\\\\test\\\\1100.png']\n",
      "processing (1120)-th image... ['C:\\\\Users\\\\dhiae\\\\data_science_lab\\\\src\\\\data\\\\gan_generated_img\\\\gan_generated_masks\\\\test\\\\11004.png']\n",
      "processing (1125)-th image... ['C:\\\\Users\\\\dhiae\\\\data_science_lab\\\\src\\\\data\\\\gan_generated_img\\\\gan_generated_masks\\\\test\\\\11009.png']\n",
      "processing (1130)-th image... ['C:\\\\Users\\\\dhiae\\\\data_science_lab\\\\src\\\\data\\\\gan_generated_img\\\\gan_generated_masks\\\\test\\\\11013.png']\n",
      "processing (1135)-th image... ['C:\\\\Users\\\\dhiae\\\\data_science_lab\\\\src\\\\data\\\\gan_generated_img\\\\gan_generated_masks\\\\test\\\\11018.png']\n",
      "processing (1140)-th image... ['C:\\\\Users\\\\dhiae\\\\data_science_lab\\\\src\\\\data\\\\gan_generated_img\\\\gan_generated_masks\\\\test\\\\11022.png']\n",
      "processing (1145)-th image... ['C:\\\\Users\\\\dhiae\\\\data_science_lab\\\\src\\\\data\\\\gan_generated_img\\\\gan_generated_masks\\\\test\\\\11027.png']\n",
      "processing (1150)-th image... ['C:\\\\Users\\\\dhiae\\\\data_science_lab\\\\src\\\\data\\\\gan_generated_img\\\\gan_generated_masks\\\\test\\\\11031.png']\n",
      "processing (1155)-th image... ['C:\\\\Users\\\\dhiae\\\\data_science_lab\\\\src\\\\data\\\\gan_generated_img\\\\gan_generated_masks\\\\test\\\\11036.png']\n",
      "processing (1160)-th image... ['C:\\\\Users\\\\dhiae\\\\data_science_lab\\\\src\\\\data\\\\gan_generated_img\\\\gan_generated_masks\\\\test\\\\11040.png']\n",
      "processing (1165)-th image... ['C:\\\\Users\\\\dhiae\\\\data_science_lab\\\\src\\\\data\\\\gan_generated_img\\\\gan_generated_masks\\\\test\\\\11045.png']\n",
      "processing (1170)-th image... ['C:\\\\Users\\\\dhiae\\\\data_science_lab\\\\src\\\\data\\\\gan_generated_img\\\\gan_generated_masks\\\\test\\\\1105.png']\n",
      "processing (1175)-th image... ['C:\\\\Users\\\\dhiae\\\\data_science_lab\\\\src\\\\data\\\\gan_generated_img\\\\gan_generated_masks\\\\test\\\\11054.png']\n",
      "processing (1180)-th image... ['C:\\\\Users\\\\dhiae\\\\data_science_lab\\\\src\\\\data\\\\gan_generated_img\\\\gan_generated_masks\\\\test\\\\11059.png']\n",
      "processing (1185)-th image... ['C:\\\\Users\\\\dhiae\\\\data_science_lab\\\\src\\\\data\\\\gan_generated_img\\\\gan_generated_masks\\\\test\\\\11063.png']\n",
      "processing (1190)-th image... ['C:\\\\Users\\\\dhiae\\\\data_science_lab\\\\src\\\\data\\\\gan_generated_img\\\\gan_generated_masks\\\\test\\\\11068.png']\n",
      "processing (1195)-th image... ['C:\\\\Users\\\\dhiae\\\\data_science_lab\\\\src\\\\data\\\\gan_generated_img\\\\gan_generated_masks\\\\test\\\\11072.png']\n",
      "processing (1200)-th image... ['C:\\\\Users\\\\dhiae\\\\data_science_lab\\\\src\\\\data\\\\gan_generated_img\\\\gan_generated_masks\\\\test\\\\11077.png']\n",
      "processing (1205)-th image... ['C:\\\\Users\\\\dhiae\\\\data_science_lab\\\\src\\\\data\\\\gan_generated_img\\\\gan_generated_masks\\\\test\\\\11081.png']\n",
      "processing (1210)-th image... ['C:\\\\Users\\\\dhiae\\\\data_science_lab\\\\src\\\\data\\\\gan_generated_img\\\\gan_generated_masks\\\\test\\\\11086.png']\n",
      "processing (1215)-th image... ['C:\\\\Users\\\\dhiae\\\\data_science_lab\\\\src\\\\data\\\\gan_generated_img\\\\gan_generated_masks\\\\test\\\\11090.png']\n",
      "processing (1220)-th image... ['C:\\\\Users\\\\dhiae\\\\data_science_lab\\\\src\\\\data\\\\gan_generated_img\\\\gan_generated_masks\\\\test\\\\11095.png']\n",
      "processing (1225)-th image... ['C:\\\\Users\\\\dhiae\\\\data_science_lab\\\\src\\\\data\\\\gan_generated_img\\\\gan_generated_masks\\\\test\\\\111.png']\n",
      "processing (1230)-th image... ['C:\\\\Users\\\\dhiae\\\\data_science_lab\\\\src\\\\data\\\\gan_generated_img\\\\gan_generated_masks\\\\test\\\\11103.png']\n",
      "processing (1235)-th image... ['C:\\\\Users\\\\dhiae\\\\data_science_lab\\\\src\\\\data\\\\gan_generated_img\\\\gan_generated_masks\\\\test\\\\11108.png']\n",
      "processing (1240)-th image... ['C:\\\\Users\\\\dhiae\\\\data_science_lab\\\\src\\\\data\\\\gan_generated_img\\\\gan_generated_masks\\\\test\\\\11112.png']\n",
      "processing (1245)-th image... ['C:\\\\Users\\\\dhiae\\\\data_science_lab\\\\src\\\\data\\\\gan_generated_img\\\\gan_generated_masks\\\\test\\\\11117.png']\n",
      "processing (1250)-th image... ['C:\\\\Users\\\\dhiae\\\\data_science_lab\\\\src\\\\data\\\\gan_generated_img\\\\gan_generated_masks\\\\test\\\\11121.png']\n",
      "processing (1255)-th image... ['C:\\\\Users\\\\dhiae\\\\data_science_lab\\\\src\\\\data\\\\gan_generated_img\\\\gan_generated_masks\\\\test\\\\11126.png']\n",
      "processing (1260)-th image... ['C:\\\\Users\\\\dhiae\\\\data_science_lab\\\\src\\\\data\\\\gan_generated_img\\\\gan_generated_masks\\\\test\\\\11130.png']\n",
      "processing (1265)-th image... ['C:\\\\Users\\\\dhiae\\\\data_science_lab\\\\src\\\\data\\\\gan_generated_img\\\\gan_generated_masks\\\\test\\\\11135.png']\n",
      "processing (1270)-th image... ['C:\\\\Users\\\\dhiae\\\\data_science_lab\\\\src\\\\data\\\\gan_generated_img\\\\gan_generated_masks\\\\test\\\\1114.png']\n",
      "processing (1275)-th image... ['C:\\\\Users\\\\dhiae\\\\data_science_lab\\\\src\\\\data\\\\gan_generated_img\\\\gan_generated_masks\\\\test\\\\11144.png']\n",
      "processing (1280)-th image... ['C:\\\\Users\\\\dhiae\\\\data_science_lab\\\\src\\\\data\\\\gan_generated_img\\\\gan_generated_masks\\\\test\\\\11149.png']\n",
      "processing (1285)-th image... ['C:\\\\Users\\\\dhiae\\\\data_science_lab\\\\src\\\\data\\\\gan_generated_img\\\\gan_generated_masks\\\\test\\\\11153.png']\n",
      "processing (1290)-th image... ['C:\\\\Users\\\\dhiae\\\\data_science_lab\\\\src\\\\data\\\\gan_generated_img\\\\gan_generated_masks\\\\test\\\\11158.png']\n",
      "processing (1295)-th image... ['C:\\\\Users\\\\dhiae\\\\data_science_lab\\\\src\\\\data\\\\gan_generated_img\\\\gan_generated_masks\\\\test\\\\11162.png']\n",
      "processing (1300)-th image... ['C:\\\\Users\\\\dhiae\\\\data_science_lab\\\\src\\\\data\\\\gan_generated_img\\\\gan_generated_masks\\\\test\\\\11167.png']\n",
      "processing (1305)-th image... ['C:\\\\Users\\\\dhiae\\\\data_science_lab\\\\src\\\\data\\\\gan_generated_img\\\\gan_generated_masks\\\\test\\\\11171.png']\n",
      "processing (1310)-th image... ['C:\\\\Users\\\\dhiae\\\\data_science_lab\\\\src\\\\data\\\\gan_generated_img\\\\gan_generated_masks\\\\test\\\\11176.png']\n",
      "processing (1315)-th image... ['C:\\\\Users\\\\dhiae\\\\data_science_lab\\\\src\\\\data\\\\gan_generated_img\\\\gan_generated_masks\\\\test\\\\11180.png']\n",
      "processing (1320)-th image... ['C:\\\\Users\\\\dhiae\\\\data_science_lab\\\\src\\\\data\\\\gan_generated_img\\\\gan_generated_masks\\\\test\\\\11185.png']\n",
      "processing (1325)-th image... ['C:\\\\Users\\\\dhiae\\\\data_science_lab\\\\src\\\\data\\\\gan_generated_img\\\\gan_generated_masks\\\\test\\\\1119.png']\n",
      "processing (1330)-th image... ['C:\\\\Users\\\\dhiae\\\\data_science_lab\\\\src\\\\data\\\\gan_generated_img\\\\gan_generated_masks\\\\test\\\\11194.png']\n",
      "processing (1335)-th image... ['C:\\\\Users\\\\dhiae\\\\data_science_lab\\\\src\\\\data\\\\gan_generated_img\\\\gan_generated_masks\\\\test\\\\11199.png']\n",
      "processing (1340)-th image... ['C:\\\\Users\\\\dhiae\\\\data_science_lab\\\\src\\\\data\\\\gan_generated_img\\\\gan_generated_masks\\\\test\\\\11202.png']\n",
      "processing (1345)-th image... ['C:\\\\Users\\\\dhiae\\\\data_science_lab\\\\src\\\\data\\\\gan_generated_img\\\\gan_generated_masks\\\\test\\\\11207.png']\n",
      "processing (1350)-th image... ['C:\\\\Users\\\\dhiae\\\\data_science_lab\\\\src\\\\data\\\\gan_generated_img\\\\gan_generated_masks\\\\test\\\\11211.png']\n",
      "processing (1355)-th image... ['C:\\\\Users\\\\dhiae\\\\data_science_lab\\\\src\\\\data\\\\gan_generated_img\\\\gan_generated_masks\\\\test\\\\11216.png']\n",
      "processing (1360)-th image... ['C:\\\\Users\\\\dhiae\\\\data_science_lab\\\\src\\\\data\\\\gan_generated_img\\\\gan_generated_masks\\\\test\\\\11220.png']\n",
      "processing (1365)-th image... ['C:\\\\Users\\\\dhiae\\\\data_science_lab\\\\src\\\\data\\\\gan_generated_img\\\\gan_generated_masks\\\\test\\\\11225.png']\n",
      "processing (1370)-th image... ['C:\\\\Users\\\\dhiae\\\\data_science_lab\\\\src\\\\data\\\\gan_generated_img\\\\gan_generated_masks\\\\test\\\\1123.png']\n",
      "processing (1375)-th image... ['C:\\\\Users\\\\dhiae\\\\data_science_lab\\\\src\\\\data\\\\gan_generated_img\\\\gan_generated_masks\\\\test\\\\11234.png']\n",
      "processing (1380)-th image... ['C:\\\\Users\\\\dhiae\\\\data_science_lab\\\\src\\\\data\\\\gan_generated_img\\\\gan_generated_masks\\\\test\\\\11239.png']\n",
      "processing (1385)-th image... ['C:\\\\Users\\\\dhiae\\\\data_science_lab\\\\src\\\\data\\\\gan_generated_img\\\\gan_generated_masks\\\\test\\\\11243.png']\n",
      "processing (1390)-th image... ['C:\\\\Users\\\\dhiae\\\\data_science_lab\\\\src\\\\data\\\\gan_generated_img\\\\gan_generated_masks\\\\test\\\\11248.png']\n",
      "processing (1395)-th image... ['C:\\\\Users\\\\dhiae\\\\data_science_lab\\\\src\\\\data\\\\gan_generated_img\\\\gan_generated_masks\\\\test\\\\11252.png']\n",
      "processing (1400)-th image... ['C:\\\\Users\\\\dhiae\\\\data_science_lab\\\\src\\\\data\\\\gan_generated_img\\\\gan_generated_masks\\\\test\\\\11257.png']\n",
      "processing (1405)-th image... ['C:\\\\Users\\\\dhiae\\\\data_science_lab\\\\src\\\\data\\\\gan_generated_img\\\\gan_generated_masks\\\\test\\\\11261.png']\n",
      "processing (1410)-th image... ['C:\\\\Users\\\\dhiae\\\\data_science_lab\\\\src\\\\data\\\\gan_generated_img\\\\gan_generated_masks\\\\test\\\\11266.png']\n",
      "processing (1415)-th image... ['C:\\\\Users\\\\dhiae\\\\data_science_lab\\\\src\\\\data\\\\gan_generated_img\\\\gan_generated_masks\\\\test\\\\11270.png']\n",
      "processing (1420)-th image... ['C:\\\\Users\\\\dhiae\\\\data_science_lab\\\\src\\\\data\\\\gan_generated_img\\\\gan_generated_masks\\\\test\\\\11275.png']\n",
      "processing (1425)-th image... ['C:\\\\Users\\\\dhiae\\\\data_science_lab\\\\src\\\\data\\\\gan_generated_img\\\\gan_generated_masks\\\\test\\\\1128.png']\n",
      "processing (1430)-th image... ['C:\\\\Users\\\\dhiae\\\\data_science_lab\\\\src\\\\data\\\\gan_generated_img\\\\gan_generated_masks\\\\test\\\\11284.png']\n",
      "processing (1435)-th image... ['C:\\\\Users\\\\dhiae\\\\data_science_lab\\\\src\\\\data\\\\gan_generated_img\\\\gan_generated_masks\\\\test\\\\11289.png']\n",
      "processing (1440)-th image... ['C:\\\\Users\\\\dhiae\\\\data_science_lab\\\\src\\\\data\\\\gan_generated_img\\\\gan_generated_masks\\\\test\\\\11293.png']\n",
      "processing (1445)-th image... ['C:\\\\Users\\\\dhiae\\\\data_science_lab\\\\src\\\\data\\\\gan_generated_img\\\\gan_generated_masks\\\\test\\\\11298.png']\n",
      "processing (1450)-th image... ['C:\\\\Users\\\\dhiae\\\\data_science_lab\\\\src\\\\data\\\\gan_generated_img\\\\gan_generated_masks\\\\test\\\\11301.png']\n",
      "processing (1455)-th image... ['C:\\\\Users\\\\dhiae\\\\data_science_lab\\\\src\\\\data\\\\gan_generated_img\\\\gan_generated_masks\\\\test\\\\11306.png']\n",
      "processing (1460)-th image... ['C:\\\\Users\\\\dhiae\\\\data_science_lab\\\\src\\\\data\\\\gan_generated_img\\\\gan_generated_masks\\\\test\\\\11310.png']\n",
      "processing (1465)-th image... ['C:\\\\Users\\\\dhiae\\\\data_science_lab\\\\src\\\\data\\\\gan_generated_img\\\\gan_generated_masks\\\\test\\\\11315.png']\n",
      "processing (1470)-th image... ['C:\\\\Users\\\\dhiae\\\\data_science_lab\\\\src\\\\data\\\\gan_generated_img\\\\gan_generated_masks\\\\test\\\\1132.png']\n",
      "processing (1475)-th image... ['C:\\\\Users\\\\dhiae\\\\data_science_lab\\\\src\\\\data\\\\gan_generated_img\\\\gan_generated_masks\\\\test\\\\11324.png']\n",
      "processing (1480)-th image... ['C:\\\\Users\\\\dhiae\\\\data_science_lab\\\\src\\\\data\\\\gan_generated_img\\\\gan_generated_masks\\\\test\\\\11329.png']\n",
      "processing (1485)-th image... ['C:\\\\Users\\\\dhiae\\\\data_science_lab\\\\src\\\\data\\\\gan_generated_img\\\\gan_generated_masks\\\\test\\\\11333.png']\n",
      "processing (1490)-th image... ['C:\\\\Users\\\\dhiae\\\\data_science_lab\\\\src\\\\data\\\\gan_generated_img\\\\gan_generated_masks\\\\test\\\\11338.png']\n",
      "processing (1495)-th image... ['C:\\\\Users\\\\dhiae\\\\data_science_lab\\\\src\\\\data\\\\gan_generated_img\\\\gan_generated_masks\\\\test\\\\11342.png']\n",
      "processing (1500)-th image... ['C:\\\\Users\\\\dhiae\\\\data_science_lab\\\\src\\\\data\\\\gan_generated_img\\\\gan_generated_masks\\\\test\\\\11347.png']\n",
      "processing (1505)-th image... ['C:\\\\Users\\\\dhiae\\\\data_science_lab\\\\src\\\\data\\\\gan_generated_img\\\\gan_generated_masks\\\\test\\\\11351.png']\n",
      "processing (1510)-th image... ['C:\\\\Users\\\\dhiae\\\\data_science_lab\\\\src\\\\data\\\\gan_generated_img\\\\gan_generated_masks\\\\test\\\\11356.png']\n",
      "processing (1515)-th image... ['C:\\\\Users\\\\dhiae\\\\data_science_lab\\\\src\\\\data\\\\gan_generated_img\\\\gan_generated_masks\\\\test\\\\11360.png']\n",
      "processing (1520)-th image... ['C:\\\\Users\\\\dhiae\\\\data_science_lab\\\\src\\\\data\\\\gan_generated_img\\\\gan_generated_masks\\\\test\\\\11365.png']\n",
      "processing (1525)-th image... ['C:\\\\Users\\\\dhiae\\\\data_science_lab\\\\src\\\\data\\\\gan_generated_img\\\\gan_generated_masks\\\\test\\\\1137.png']\n",
      "processing (1530)-th image... ['C:\\\\Users\\\\dhiae\\\\data_science_lab\\\\src\\\\data\\\\gan_generated_img\\\\gan_generated_masks\\\\test\\\\11374.png']\n",
      "processing (1535)-th image... ['C:\\\\Users\\\\dhiae\\\\data_science_lab\\\\src\\\\data\\\\gan_generated_img\\\\gan_generated_masks\\\\test\\\\11379.png']\n",
      "processing (1540)-th image... ['C:\\\\Users\\\\dhiae\\\\data_science_lab\\\\src\\\\data\\\\gan_generated_img\\\\gan_generated_masks\\\\test\\\\11383.png']\n",
      "processing (1545)-th image... ['C:\\\\Users\\\\dhiae\\\\data_science_lab\\\\src\\\\data\\\\gan_generated_img\\\\gan_generated_masks\\\\test\\\\11388.png']\n",
      "processing (1550)-th image... ['C:\\\\Users\\\\dhiae\\\\data_science_lab\\\\src\\\\data\\\\gan_generated_img\\\\gan_generated_masks\\\\test\\\\11392.png']\n",
      "processing (1555)-th image... ['C:\\\\Users\\\\dhiae\\\\data_science_lab\\\\src\\\\data\\\\gan_generated_img\\\\gan_generated_masks\\\\test\\\\11397.png']\n",
      "processing (1560)-th image... ['C:\\\\Users\\\\dhiae\\\\data_science_lab\\\\src\\\\data\\\\gan_generated_img\\\\gan_generated_masks\\\\test\\\\11400.png']\n",
      "processing (1565)-th image... ['C:\\\\Users\\\\dhiae\\\\data_science_lab\\\\src\\\\data\\\\gan_generated_img\\\\gan_generated_masks\\\\test\\\\11405.png']\n",
      "processing (1570)-th image... ['C:\\\\Users\\\\dhiae\\\\data_science_lab\\\\src\\\\data\\\\gan_generated_img\\\\gan_generated_masks\\\\test\\\\1141.png']\n",
      "processing (1575)-th image... ['C:\\\\Users\\\\dhiae\\\\data_science_lab\\\\src\\\\data\\\\gan_generated_img\\\\gan_generated_masks\\\\test\\\\11414.png']\n",
      "processing (1580)-th image... ['C:\\\\Users\\\\dhiae\\\\data_science_lab\\\\src\\\\data\\\\gan_generated_img\\\\gan_generated_masks\\\\test\\\\11419.png']\n",
      "processing (1585)-th image... ['C:\\\\Users\\\\dhiae\\\\data_science_lab\\\\src\\\\data\\\\gan_generated_img\\\\gan_generated_masks\\\\test\\\\11423.png']\n",
      "processing (1590)-th image... ['C:\\\\Users\\\\dhiae\\\\data_science_lab\\\\src\\\\data\\\\gan_generated_img\\\\gan_generated_masks\\\\test\\\\11428.png']\n",
      "processing (1595)-th image... ['C:\\\\Users\\\\dhiae\\\\data_science_lab\\\\src\\\\data\\\\gan_generated_img\\\\gan_generated_masks\\\\test\\\\11432.png']\n",
      "processing (1600)-th image... ['C:\\\\Users\\\\dhiae\\\\data_science_lab\\\\src\\\\data\\\\gan_generated_img\\\\gan_generated_masks\\\\test\\\\11437.png']\n",
      "processing (1605)-th image... ['C:\\\\Users\\\\dhiae\\\\data_science_lab\\\\src\\\\data\\\\gan_generated_img\\\\gan_generated_masks\\\\test\\\\11441.png']\n",
      "processing (1610)-th image... ['C:\\\\Users\\\\dhiae\\\\data_science_lab\\\\src\\\\data\\\\gan_generated_img\\\\gan_generated_masks\\\\test\\\\11446.png']\n",
      "processing (1615)-th image... ['C:\\\\Users\\\\dhiae\\\\data_science_lab\\\\src\\\\data\\\\gan_generated_img\\\\gan_generated_masks\\\\test\\\\11450.png']\n",
      "processing (1620)-th image... ['C:\\\\Users\\\\dhiae\\\\data_science_lab\\\\src\\\\data\\\\gan_generated_img\\\\gan_generated_masks\\\\test\\\\11455.png']\n",
      "processing (1625)-th image... ['C:\\\\Users\\\\dhiae\\\\data_science_lab\\\\src\\\\data\\\\gan_generated_img\\\\gan_generated_masks\\\\test\\\\1146.png']\n",
      "processing (1630)-th image... ['C:\\\\Users\\\\dhiae\\\\data_science_lab\\\\src\\\\data\\\\gan_generated_img\\\\gan_generated_masks\\\\test\\\\11464.png']\n",
      "processing (1635)-th image... ['C:\\\\Users\\\\dhiae\\\\data_science_lab\\\\src\\\\data\\\\gan_generated_img\\\\gan_generated_masks\\\\test\\\\11469.png']\n",
      "processing (1640)-th image... ['C:\\\\Users\\\\dhiae\\\\data_science_lab\\\\src\\\\data\\\\gan_generated_img\\\\gan_generated_masks\\\\test\\\\11473.png']\n",
      "processing (1645)-th image... ['C:\\\\Users\\\\dhiae\\\\data_science_lab\\\\src\\\\data\\\\gan_generated_img\\\\gan_generated_masks\\\\test\\\\11478.png']\n",
      "processing (1650)-th image... ['C:\\\\Users\\\\dhiae\\\\data_science_lab\\\\src\\\\data\\\\gan_generated_img\\\\gan_generated_masks\\\\test\\\\11482.png']\n",
      "processing (1655)-th image... ['C:\\\\Users\\\\dhiae\\\\data_science_lab\\\\src\\\\data\\\\gan_generated_img\\\\gan_generated_masks\\\\test\\\\11487.png']"
     ]
    }
   ],
   "source": [
    "os.chdir(os.path.join(conf.WORKING_DIR, \"pytorch-CycleGAN-and-pix2pix\"))\n",
    "!python test.py --dataroot {conf.GAN_GENERATED_MASKS} --name {conf.GAN_MODEL_NAME} --model test --netG unet_256 --direction AtoB --dataset_mode single --norm batch --results_dir {conf.GAN_GENERATED_MRI} --max_dataset_size 33000 --num_test 33000"
   ],
   "metadata": {
    "collapsed": false,
    "pycharm": {
     "name": "#%%\n"
    }
   }
  },
  {
   "cell_type": "markdown",
   "source": [
    "Move generated images to data directory"
   ],
   "metadata": {
    "collapsed": false,
    "pycharm": {
     "name": "#%% md\n"
    }
   }
  },
  {
   "cell_type": "code",
   "execution_count": null,
   "outputs": [],
   "source": [
    "import shutil\n",
    "import os\n",
    "\n",
    "os.chdir(os.path.join(conf.DATASET_DIR, conf.GAN_MODEL_NAME, \"test_latest\", \"images\"))\n",
    "for file_name in os.listdir():\n",
    "    if file_name.find(\"fake\")!= -1:\n",
    "        target_file_name = os.path.join(conf.GAN_GENERATED_MRI, file_name.replace(\"_fake\", \"\"))\n",
    "        shutil.move(file_name, target_file_name)"
   ],
   "metadata": {
    "collapsed": false,
    "pycharm": {
     "name": "#%%\n"
    }
   }
  }
 ]
}